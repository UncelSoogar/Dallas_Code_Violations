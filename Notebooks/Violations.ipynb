{
 "cells": [
  {
   "cell_type": "markdown",
   "metadata": {},
   "source": [
    "# Load inital libraries and data"
   ]
  },
  {
   "cell_type": "code",
   "execution_count": 1,
   "metadata": {},
   "outputs": [],
   "source": [
    "import pandas as pd\n"
   ]
  },
  {
   "cell_type": "code",
   "execution_count": 2,
   "metadata": {},
   "outputs": [],
   "source": [
    "#Load original CSV\n",
    "file_to_load = \"../Resources/Code_Violations.csv\"\n",
    "\n",
    "# Read Purchasing File and store into Pandas data frame\n",
    "df = pd.read_csv(file_to_load)"
   ]
  },
  {
   "cell_type": "markdown",
   "metadata": {},
   "source": [
    "# Data Exploration and Cleaning\n"
   ]
  },
  {
   "cell_type": "code",
   "execution_count": 3,
   "metadata": {},
   "outputs": [
    {
     "name": "stdout",
     "output_type": "stream",
     "text": [
      "<class 'pandas.core.frame.DataFrame'>\n",
      "RangeIndex: 712998 entries, 0 to 712997\n",
      "Data columns (total 18 columns):\n",
      "Service Request ID             712998 non-null int64\n",
      "Service Request                712998 non-null object\n",
      "Str Num                        692502 non-null float64\n",
      "Str Prefix                     104633 non-null object\n",
      "Str Nam                        712987 non-null object\n",
      "Str Suffix                     690457 non-null object\n",
      "Zone                           694663 non-null float64\n",
      "Department                     712998 non-null object\n",
      "Nuisance                       526412 non-null object\n",
      "Status                         712998 non-null object\n",
      "Created                        712998 non-null object\n",
      "Completed Date                 541760 non-null object\n",
      "Method Received Description    712998 non-null object\n",
      "X_Value                        712984 non-null float64\n",
      "Y_Value                        712984 non-null float64\n",
      "Type                           712998 non-null object\n",
      "Location                       692497 non-null object\n",
      "Updated                        712998 non-null object\n",
      "dtypes: float64(4), int64(1), object(13)\n",
      "memory usage: 97.9+ MB\n"
     ]
    }
   ],
   "source": [
    "df.info()"
   ]
  },
  {
   "cell_type": "code",
   "execution_count": 4,
   "metadata": {},
   "outputs": [
    {
     "data": {
      "text/html": [
       "<div>\n",
       "<style scoped>\n",
       "    .dataframe tbody tr th:only-of-type {\n",
       "        vertical-align: middle;\n",
       "    }\n",
       "\n",
       "    .dataframe tbody tr th {\n",
       "        vertical-align: top;\n",
       "    }\n",
       "\n",
       "    .dataframe thead th {\n",
       "        text-align: right;\n",
       "    }\n",
       "</style>\n",
       "<table border=\"1\" class=\"dataframe\">\n",
       "  <thead>\n",
       "    <tr style=\"text-align: right;\">\n",
       "      <th></th>\n",
       "      <th>Service Request ID</th>\n",
       "      <th>Service Request</th>\n",
       "      <th>Str Num</th>\n",
       "      <th>Str Prefix</th>\n",
       "      <th>Str Nam</th>\n",
       "      <th>Str Suffix</th>\n",
       "      <th>Zone</th>\n",
       "      <th>Department</th>\n",
       "      <th>Nuisance</th>\n",
       "      <th>Status</th>\n",
       "      <th>Created</th>\n",
       "      <th>Completed Date</th>\n",
       "      <th>Method Received Description</th>\n",
       "      <th>X_Value</th>\n",
       "      <th>Y_Value</th>\n",
       "      <th>Type</th>\n",
       "      <th>Location</th>\n",
       "      <th>Updated</th>\n",
       "    </tr>\n",
       "  </thead>\n",
       "  <tbody>\n",
       "    <tr>\n",
       "      <td>0</td>\n",
       "      <td>1114349086</td>\n",
       "      <td>14-00055979</td>\n",
       "      <td>3500.0</td>\n",
       "      <td>NaN</td>\n",
       "      <td>FRIO</td>\n",
       "      <td>DR</td>\n",
       "      <td>75216.0</td>\n",
       "      <td>Code Compliance District Group</td>\n",
       "      <td>Illegal Dumping - CCS</td>\n",
       "      <td>CLOSED</td>\n",
       "      <td>02/20/2014 12:11:00 PM</td>\n",
       "      <td>03/04/2014 10:31:00 AM</td>\n",
       "      <td>Phone</td>\n",
       "      <td>2489854.801</td>\n",
       "      <td>6942969.656</td>\n",
       "      <td>Nuisance</td>\n",
       "      <td>3500 FRIO DR\\nDallas, TX 75216</td>\n",
       "      <td>03/04/2014 10:31:00 AM</td>\n",
       "    </tr>\n",
       "    <tr>\n",
       "      <td>1</td>\n",
       "      <td>1112342304</td>\n",
       "      <td>14-00023976</td>\n",
       "      <td>4651.0</td>\n",
       "      <td>NaN</td>\n",
       "      <td>CL VEASEY</td>\n",
       "      <td>BLVD</td>\n",
       "      <td>75216.0</td>\n",
       "      <td>Code Compliance District Group</td>\n",
       "      <td>NaN</td>\n",
       "      <td>CLOSED</td>\n",
       "      <td>01/22/2014 04:20:00 PM</td>\n",
       "      <td>02/18/2014 11:46:00 AM</td>\n",
       "      <td>Phone</td>\n",
       "      <td>2498039.598</td>\n",
       "      <td>6941391.657</td>\n",
       "      <td>Zoning</td>\n",
       "      <td>4651 CL VEASEY BLVD\\nDallas, TX 75216</td>\n",
       "      <td>02/18/2014 01:05:00 PM</td>\n",
       "    </tr>\n",
       "    <tr>\n",
       "      <td>2</td>\n",
       "      <td>1115799618</td>\n",
       "      <td>14-00078509</td>\n",
       "      <td>4847.0</td>\n",
       "      <td>NaN</td>\n",
       "      <td>FRIO</td>\n",
       "      <td>DR</td>\n",
       "      <td>75216.0</td>\n",
       "      <td>Code Compliance District Group</td>\n",
       "      <td>NaN</td>\n",
       "      <td>CLOSED</td>\n",
       "      <td>03/12/2014 09:18:00 AM</td>\n",
       "      <td>03/07/2014 09:20:00 AM</td>\n",
       "      <td>Proactive</td>\n",
       "      <td>2492251.736</td>\n",
       "      <td>6937172.095</td>\n",
       "      <td>Zoning</td>\n",
       "      <td>4847 FRIO DR\\nDallas, TX 75216</td>\n",
       "      <td>03/07/2014 09:24:00 AM</td>\n",
       "    </tr>\n",
       "    <tr>\n",
       "      <td>3</td>\n",
       "      <td>1117018371</td>\n",
       "      <td>14-00097942</td>\n",
       "      <td>3411.0</td>\n",
       "      <td>NaN</td>\n",
       "      <td>FRIO</td>\n",
       "      <td>DR</td>\n",
       "      <td>75216.0</td>\n",
       "      <td>Code Compliance District Group</td>\n",
       "      <td>Litter -  CCS</td>\n",
       "      <td>CLOSED</td>\n",
       "      <td>03/27/2014 11:32:00 AM</td>\n",
       "      <td>03/28/2014 08:30:00 AM</td>\n",
       "      <td>Phone</td>\n",
       "      <td>2489556.427</td>\n",
       "      <td>6943144.017</td>\n",
       "      <td>Nuisance</td>\n",
       "      <td>3411 FRIO DR\\nDallas, TX 75216</td>\n",
       "      <td>04/17/2014 08:49:00 AM</td>\n",
       "    </tr>\n",
       "    <tr>\n",
       "      <td>4</td>\n",
       "      <td>1114966857</td>\n",
       "      <td>14-00065535</td>\n",
       "      <td>NaN</td>\n",
       "      <td>NaN</td>\n",
       "      <td>33OO CEDAR CREST BLVD</td>\n",
       "      <td>NaN</td>\n",
       "      <td>75216.0</td>\n",
       "      <td>Code Compliance District Group</td>\n",
       "      <td>NaN</td>\n",
       "      <td>CLOSED</td>\n",
       "      <td>02/28/2014 01:11:00 PM</td>\n",
       "      <td>NaN</td>\n",
       "      <td>Proactive</td>\n",
       "      <td>0.000</td>\n",
       "      <td>0.000</td>\n",
       "      <td>Zoning</td>\n",
       "      <td>NaN</td>\n",
       "      <td>02/28/2014 01:15:00 PM</td>\n",
       "    </tr>\n",
       "  </tbody>\n",
       "</table>\n",
       "</div>"
      ],
      "text/plain": [
       "   Service Request ID Service Request  Str Num Str Prefix  \\\n",
       "0          1114349086     14-00055979   3500.0        NaN   \n",
       "1          1112342304     14-00023976   4651.0        NaN   \n",
       "2          1115799618     14-00078509   4847.0        NaN   \n",
       "3          1117018371     14-00097942   3411.0        NaN   \n",
       "4          1114966857     14-00065535      NaN        NaN   \n",
       "\n",
       "                 Str Nam Str Suffix     Zone                      Department  \\\n",
       "0                   FRIO         DR  75216.0  Code Compliance District Group   \n",
       "1              CL VEASEY       BLVD  75216.0  Code Compliance District Group   \n",
       "2                   FRIO         DR  75216.0  Code Compliance District Group   \n",
       "3                   FRIO         DR  75216.0  Code Compliance District Group   \n",
       "4  33OO CEDAR CREST BLVD        NaN  75216.0  Code Compliance District Group   \n",
       "\n",
       "                Nuisance  Status                 Created  \\\n",
       "0  Illegal Dumping - CCS  CLOSED  02/20/2014 12:11:00 PM   \n",
       "1                    NaN  CLOSED  01/22/2014 04:20:00 PM   \n",
       "2                    NaN  CLOSED  03/12/2014 09:18:00 AM   \n",
       "3          Litter -  CCS  CLOSED  03/27/2014 11:32:00 AM   \n",
       "4                    NaN  CLOSED  02/28/2014 01:11:00 PM   \n",
       "\n",
       "           Completed Date Method Received Description      X_Value  \\\n",
       "0  03/04/2014 10:31:00 AM                       Phone  2489854.801   \n",
       "1  02/18/2014 11:46:00 AM                       Phone  2498039.598   \n",
       "2  03/07/2014 09:20:00 AM                   Proactive  2492251.736   \n",
       "3  03/28/2014 08:30:00 AM                       Phone  2489556.427   \n",
       "4                     NaN                   Proactive        0.000   \n",
       "\n",
       "       Y_Value      Type                               Location  \\\n",
       "0  6942969.656  Nuisance         3500 FRIO DR\\nDallas, TX 75216   \n",
       "1  6941391.657    Zoning  4651 CL VEASEY BLVD\\nDallas, TX 75216   \n",
       "2  6937172.095    Zoning         4847 FRIO DR\\nDallas, TX 75216   \n",
       "3  6943144.017  Nuisance         3411 FRIO DR\\nDallas, TX 75216   \n",
       "4        0.000    Zoning                                    NaN   \n",
       "\n",
       "                  Updated  \n",
       "0  03/04/2014 10:31:00 AM  \n",
       "1  02/18/2014 01:05:00 PM  \n",
       "2  03/07/2014 09:24:00 AM  \n",
       "3  04/17/2014 08:49:00 AM  \n",
       "4  02/28/2014 01:15:00 PM  "
      ]
     },
     "execution_count": 4,
     "metadata": {},
     "output_type": "execute_result"
    }
   ],
   "source": [
    "df.head()"
   ]
  },
  {
   "cell_type": "code",
   "execution_count": 5,
   "metadata": {},
   "outputs": [
    {
     "data": {
      "text/plain": [
       "Nuisance      526412\n",
       "Zoning        116434\n",
       "Structural     58888\n",
       "Other          11264\n",
       "Name: Type, dtype: int64"
      ]
     },
     "execution_count": 5,
     "metadata": {},
     "output_type": "execute_result"
    }
   ],
   "source": [
    "df.Type.value_counts()"
   ]
  },
  {
   "cell_type": "code",
   "execution_count": 6,
   "metadata": {},
   "outputs": [
    {
     "data": {
      "text/html": [
       "<div>\n",
       "<style scoped>\n",
       "    .dataframe tbody tr th:only-of-type {\n",
       "        vertical-align: middle;\n",
       "    }\n",
       "\n",
       "    .dataframe tbody tr th {\n",
       "        vertical-align: top;\n",
       "    }\n",
       "\n",
       "    .dataframe thead th {\n",
       "        text-align: right;\n",
       "    }\n",
       "</style>\n",
       "<table border=\"1\" class=\"dataframe\">\n",
       "  <thead>\n",
       "    <tr style=\"text-align: right;\">\n",
       "      <th></th>\n",
       "      <th>Service Request ID</th>\n",
       "      <th>Service Request</th>\n",
       "      <th>Str Num</th>\n",
       "      <th>Str Prefix</th>\n",
       "      <th>Str Nam</th>\n",
       "      <th>Str Suffix</th>\n",
       "      <th>Zone</th>\n",
       "      <th>Department</th>\n",
       "      <th>Nuisance</th>\n",
       "      <th>Status</th>\n",
       "      <th>Created</th>\n",
       "      <th>Completed Date</th>\n",
       "      <th>Method Received Description</th>\n",
       "      <th>X_Value</th>\n",
       "      <th>Y_Value</th>\n",
       "      <th>Location</th>\n",
       "      <th>Updated</th>\n",
       "    </tr>\n",
       "    <tr>\n",
       "      <th>Type</th>\n",
       "      <th></th>\n",
       "      <th></th>\n",
       "      <th></th>\n",
       "      <th></th>\n",
       "      <th></th>\n",
       "      <th></th>\n",
       "      <th></th>\n",
       "      <th></th>\n",
       "      <th></th>\n",
       "      <th></th>\n",
       "      <th></th>\n",
       "      <th></th>\n",
       "      <th></th>\n",
       "      <th></th>\n",
       "      <th></th>\n",
       "      <th></th>\n",
       "      <th></th>\n",
       "    </tr>\n",
       "  </thead>\n",
       "  <tbody>\n",
       "    <tr>\n",
       "      <td>Nuisance</td>\n",
       "      <td>526412</td>\n",
       "      <td>526412</td>\n",
       "      <td>519852</td>\n",
       "      <td>70818</td>\n",
       "      <td>526407</td>\n",
       "      <td>518472</td>\n",
       "      <td>517892</td>\n",
       "      <td>526412</td>\n",
       "      <td>526412</td>\n",
       "      <td>526412</td>\n",
       "      <td>526412</td>\n",
       "      <td>395650</td>\n",
       "      <td>526412</td>\n",
       "      <td>526401</td>\n",
       "      <td>526401</td>\n",
       "      <td>519852</td>\n",
       "      <td>526412</td>\n",
       "    </tr>\n",
       "    <tr>\n",
       "      <td>Other</td>\n",
       "      <td>11264</td>\n",
       "      <td>11264</td>\n",
       "      <td>10869</td>\n",
       "      <td>1569</td>\n",
       "      <td>11264</td>\n",
       "      <td>10835</td>\n",
       "      <td>10951</td>\n",
       "      <td>11264</td>\n",
       "      <td>0</td>\n",
       "      <td>11264</td>\n",
       "      <td>11264</td>\n",
       "      <td>8803</td>\n",
       "      <td>11264</td>\n",
       "      <td>11264</td>\n",
       "      <td>11264</td>\n",
       "      <td>10869</td>\n",
       "      <td>11264</td>\n",
       "    </tr>\n",
       "    <tr>\n",
       "      <td>Structural</td>\n",
       "      <td>58888</td>\n",
       "      <td>58888</td>\n",
       "      <td>58665</td>\n",
       "      <td>7177</td>\n",
       "      <td>58887</td>\n",
       "      <td>58453</td>\n",
       "      <td>56026</td>\n",
       "      <td>58888</td>\n",
       "      <td>0</td>\n",
       "      <td>58888</td>\n",
       "      <td>58888</td>\n",
       "      <td>48301</td>\n",
       "      <td>58888</td>\n",
       "      <td>58887</td>\n",
       "      <td>58887</td>\n",
       "      <td>58665</td>\n",
       "      <td>58888</td>\n",
       "    </tr>\n",
       "    <tr>\n",
       "      <td>Zoning</td>\n",
       "      <td>116434</td>\n",
       "      <td>116434</td>\n",
       "      <td>103116</td>\n",
       "      <td>25069</td>\n",
       "      <td>116429</td>\n",
       "      <td>102697</td>\n",
       "      <td>109794</td>\n",
       "      <td>116434</td>\n",
       "      <td>0</td>\n",
       "      <td>116434</td>\n",
       "      <td>116434</td>\n",
       "      <td>89006</td>\n",
       "      <td>116434</td>\n",
       "      <td>116432</td>\n",
       "      <td>116432</td>\n",
       "      <td>103111</td>\n",
       "      <td>116434</td>\n",
       "    </tr>\n",
       "  </tbody>\n",
       "</table>\n",
       "</div>"
      ],
      "text/plain": [
       "            Service Request ID  Service Request  Str Num  Str Prefix  Str Nam  \\\n",
       "Type                                                                            \n",
       "Nuisance                526412           526412   519852       70818   526407   \n",
       "Other                    11264            11264    10869        1569    11264   \n",
       "Structural               58888            58888    58665        7177    58887   \n",
       "Zoning                  116434           116434   103116       25069   116429   \n",
       "\n",
       "            Str Suffix    Zone  Department  Nuisance  Status  Created  \\\n",
       "Type                                                                    \n",
       "Nuisance        518472  517892      526412    526412  526412   526412   \n",
       "Other            10835   10951       11264         0   11264    11264   \n",
       "Structural       58453   56026       58888         0   58888    58888   \n",
       "Zoning          102697  109794      116434         0  116434   116434   \n",
       "\n",
       "            Completed Date  Method Received Description  X_Value  Y_Value  \\\n",
       "Type                                                                        \n",
       "Nuisance            395650                       526412   526401   526401   \n",
       "Other                 8803                        11264    11264    11264   \n",
       "Structural           48301                        58888    58887    58887   \n",
       "Zoning               89006                       116434   116432   116432   \n",
       "\n",
       "            Location  Updated  \n",
       "Type                           \n",
       "Nuisance      519852   526412  \n",
       "Other          10869    11264  \n",
       "Structural     58665    58888  \n",
       "Zoning        103111   116434  "
      ]
     },
     "execution_count": 6,
     "metadata": {},
     "output_type": "execute_result"
    }
   ],
   "source": [
    "df.groupby('Type').count()"
   ]
  },
  {
   "cell_type": "code",
   "execution_count": 7,
   "metadata": {},
   "outputs": [
    {
     "data": {
      "text/plain": [
       "High Weeds - CCS                                            114301\n",
       "Litter -  CCS                                                93770\n",
       "Obstruction Alley/Sidewalk/Street - CCS                      62052\n",
       "Garage Sale Tracking - CCS                                   58431\n",
       "Bulky Trash Violations - CCS                                 52794\n",
       "Illegal Dumping - CCS                                        27190\n",
       "Graffiti Abatement Request - CCS                             22746\n",
       "Junk Motor Vehicle - CCS                                     22478\n",
       "Illegal Outside Storage - CCS                                17011\n",
       "Water Conservation Violation - CCS                           11263\n",
       "Graffiti Private Property - Residential/Commercial - CCS     11117\n",
       "Illegal Garbage/Placement - CCS                               9875\n",
       "Garage Sale - CCS                                             9229\n",
       "Noise Pollution - CCS                                         5443\n",
       "Obstruction Corner Clip - CCS                                 1787\n",
       "Dumpster Violation - CCS                                      1739\n",
       "Oversized Vehicle - CCS                                       1704\n",
       "Sidewalk Violations Hazardous - CCS                           1594\n",
       "Rodents/Vector Control - CCS                                   557\n",
       "Light Glare - CCS                                              432\n",
       "Hand Bills/Fliers Complaint - CCS                              387\n",
       "Graffiti Consent Form - CCS                                    380\n",
       "Smoking/Restaurant Complaint - CCS                             100\n",
       "Shopping Cart Decal Violation - CCS                             32\n",
       "Name: Nuisance, dtype: int64"
      ]
     },
     "execution_count": 7,
     "metadata": {},
     "output_type": "execute_result"
    }
   ],
   "source": [
    "df.Nuisance.value_counts()"
   ]
  },
  {
   "cell_type": "markdown",
   "metadata": {},
   "source": [
    "### Nuisance appears to be the primary column describing the nature of a violation. Because the other 'Types' only contain null values, filter only for type == nuisance."
   ]
  },
  {
   "cell_type": "code",
   "execution_count": 9,
   "metadata": {},
   "outputs": [
    {
     "name": "stdout",
     "output_type": "stream",
     "text": [
      "<class 'pandas.core.frame.DataFrame'>\n",
      "Int64Index: 526412 entries, 0 to 712996\n",
      "Data columns (total 18 columns):\n",
      "Service Request ID             526412 non-null int64\n",
      "Service Request                526412 non-null object\n",
      "Str Num                        519852 non-null float64\n",
      "Str Prefix                     70818 non-null object\n",
      "Str Nam                        526407 non-null object\n",
      "Str Suffix                     518472 non-null object\n",
      "Zone                           517892 non-null float64\n",
      "Department                     526412 non-null object\n",
      "Nuisance                       526412 non-null object\n",
      "Status                         526412 non-null object\n",
      "Created                        526412 non-null object\n",
      "Completed Date                 395650 non-null object\n",
      "Method Received Description    526412 non-null object\n",
      "X_Value                        526401 non-null float64\n",
      "Y_Value                        526401 non-null float64\n",
      "Type                           526412 non-null object\n",
      "Location                       519852 non-null object\n",
      "Updated                        526412 non-null object\n",
      "dtypes: float64(4), int64(1), object(13)\n",
      "memory usage: 76.3+ MB\n"
     ]
    }
   ],
   "source": [
    "#Filter out non-nuisance types. Alternatively, could rows w/ null values in column 'Nuisance'\n",
    "df_nuis = df[df.Type == \"Nuisance\"].copy()\n",
    "df_nuis.info()"
   ]
  },
  {
   "cell_type": "markdown",
   "metadata": {},
   "source": [
    "### Select columns with information we want to analyze"
   ]
  },
  {
   "cell_type": "code",
   "execution_count": 11,
   "metadata": {},
   "outputs": [
    {
     "data": {
      "text/html": [
       "<div>\n",
       "<style scoped>\n",
       "    .dataframe tbody tr th:only-of-type {\n",
       "        vertical-align: middle;\n",
       "    }\n",
       "\n",
       "    .dataframe tbody tr th {\n",
       "        vertical-align: top;\n",
       "    }\n",
       "\n",
       "    .dataframe thead th {\n",
       "        text-align: right;\n",
       "    }\n",
       "</style>\n",
       "<table border=\"1\" class=\"dataframe\">\n",
       "  <thead>\n",
       "    <tr style=\"text-align: right;\">\n",
       "      <th></th>\n",
       "      <th>Service Request ID</th>\n",
       "      <th>Str Nam</th>\n",
       "      <th>Zone</th>\n",
       "      <th>Nuisance</th>\n",
       "      <th>Method Received Description</th>\n",
       "      <th>Created</th>\n",
       "      <th>Completed Date</th>\n",
       "    </tr>\n",
       "  </thead>\n",
       "  <tbody>\n",
       "    <tr>\n",
       "      <td>0</td>\n",
       "      <td>1114349086</td>\n",
       "      <td>FRIO</td>\n",
       "      <td>75216.0</td>\n",
       "      <td>Illegal Dumping - CCS</td>\n",
       "      <td>Phone</td>\n",
       "      <td>02/20/2014 12:11:00 PM</td>\n",
       "      <td>03/04/2014 10:31:00 AM</td>\n",
       "    </tr>\n",
       "    <tr>\n",
       "      <td>3</td>\n",
       "      <td>1117018371</td>\n",
       "      <td>FRIO</td>\n",
       "      <td>75216.0</td>\n",
       "      <td>Litter -  CCS</td>\n",
       "      <td>Phone</td>\n",
       "      <td>03/27/2014 11:32:00 AM</td>\n",
       "      <td>03/28/2014 08:30:00 AM</td>\n",
       "    </tr>\n",
       "    <tr>\n",
       "      <td>7</td>\n",
       "      <td>1116675552</td>\n",
       "      <td>FRIO</td>\n",
       "      <td>75216.0</td>\n",
       "      <td>Illegal Dumping - CCS</td>\n",
       "      <td>Phone</td>\n",
       "      <td>03/24/2014 08:14:00 AM</td>\n",
       "      <td>05/15/2014 12:40:00 PM</td>\n",
       "    </tr>\n",
       "    <tr>\n",
       "      <td>9</td>\n",
       "      <td>1121347589</td>\n",
       "      <td>FRIO</td>\n",
       "      <td>75216.0</td>\n",
       "      <td>High Weeds - CCS</td>\n",
       "      <td>Phone</td>\n",
       "      <td>05/12/2014 09:55:00 AM</td>\n",
       "      <td>06/23/2014 03:31:00 PM</td>\n",
       "    </tr>\n",
       "    <tr>\n",
       "      <td>12</td>\n",
       "      <td>1121991684</td>\n",
       "      <td>FRIO</td>\n",
       "      <td>75216.0</td>\n",
       "      <td>High Weeds - CCS</td>\n",
       "      <td>Phone</td>\n",
       "      <td>05/17/2014 02:28:00 PM</td>\n",
       "      <td>06/26/2014 04:28:00 PM</td>\n",
       "    </tr>\n",
       "  </tbody>\n",
       "</table>\n",
       "</div>"
      ],
      "text/plain": [
       "    Service Request ID Str Nam     Zone               Nuisance  \\\n",
       "0           1114349086    FRIO  75216.0  Illegal Dumping - CCS   \n",
       "3           1117018371    FRIO  75216.0          Litter -  CCS   \n",
       "7           1116675552    FRIO  75216.0  Illegal Dumping - CCS   \n",
       "9           1121347589    FRIO  75216.0       High Weeds - CCS   \n",
       "12          1121991684    FRIO  75216.0       High Weeds - CCS   \n",
       "\n",
       "   Method Received Description                 Created          Completed Date  \n",
       "0                        Phone  02/20/2014 12:11:00 PM  03/04/2014 10:31:00 AM  \n",
       "3                        Phone  03/27/2014 11:32:00 AM  03/28/2014 08:30:00 AM  \n",
       "7                        Phone  03/24/2014 08:14:00 AM  05/15/2014 12:40:00 PM  \n",
       "9                        Phone  05/12/2014 09:55:00 AM  06/23/2014 03:31:00 PM  \n",
       "12                       Phone  05/17/2014 02:28:00 PM  06/26/2014 04:28:00 PM  "
      ]
     },
     "execution_count": 11,
     "metadata": {},
     "output_type": "execute_result"
    }
   ],
   "source": [
    "#COLS TO KEEP\n",
    "cols = ['Service Request ID', 'Str Nam', 'Zone', 'Nuisance', \n",
    "        'Method Received Description', 'Created', 'Completed Date']\n",
    "clean_df = df_nuis[cols].copy()\n",
    "clean_df.head()"
   ]
  },
  {
   "cell_type": "code",
   "execution_count": 12,
   "metadata": {},
   "outputs": [],
   "source": [
    "#Convert to datetime\n",
    "#clean_df['Created'] = pd.to_datetime(clean_df['Created'])\n",
    "#clean_df['Completed Date'] = pd.to_datetime(clean_df['Completed Date'])\n",
    "clean_df.loc[:,'Created'] = pd.to_datetime(clean_df['Created'])\n",
    "clean_df.loc[:,'Completed Date'] = pd.to_datetime(clean_df['Completed Date'])"
   ]
  },
  {
   "cell_type": "code",
   "execution_count": 13,
   "metadata": {},
   "outputs": [
    {
     "name": "stdout",
     "output_type": "stream",
     "text": [
      "<class 'pandas.core.frame.DataFrame'>\n",
      "Int64Index: 526412 entries, 0 to 712996\n",
      "Data columns (total 7 columns):\n",
      "Service Request ID             526412 non-null int64\n",
      "Str Nam                        526407 non-null object\n",
      "Zone                           517892 non-null float64\n",
      "Nuisance                       526412 non-null object\n",
      "Method Received Description    526412 non-null object\n",
      "Created                        526412 non-null datetime64[ns]\n",
      "Completed Date                 395650 non-null datetime64[ns]\n",
      "dtypes: datetime64[ns](2), float64(1), int64(1), object(3)\n",
      "memory usage: 32.1+ MB\n"
     ]
    }
   ],
   "source": [
    "clean_df.info()"
   ]
  },
  {
   "cell_type": "markdown",
   "metadata": {},
   "source": [
    "### Clean zipcodes that are typos to most likely Dallas zipcode. Dallas Zipcodes generally start with 75. Check values using .loc and replace/drop to clean.\n"
   ]
  },
  {
   "cell_type": "code",
   "execution_count": 14,
   "metadata": {},
   "outputs": [
    {
     "data": {
      "text/plain": [
       "array([75216., 75217., 75236., 75218., 75223., 75224., 75231., 75232.,\n",
       "       75233., 75234., 75237., 75240., 75241., 75243., 75244., 75246.,\n",
       "       75248., 75252., 75253., 75287.,    nan, 75203., 75211., 75212.,\n",
       "       75201., 75134., 75159., 75116., 75202., 75149., 75204., 75206.,\n",
       "       75207., 75208., 75209., 75210., 75214., 75215., 75226., 75227.,\n",
       "       75228., 75229., 75235., 75238., 75230., 75219., 75220., 75249.,\n",
       "       75251., 75225., 75205., 75247., 75528., 76216., 75254., 75051.,\n",
       "       72501., 75180., 75019., 75298., 75527., 75150., 65216., 75043.,\n",
       "       75089., 75081., 76236., 75137., 76085., 75034., 76040., 75062.,\n",
       "       75052., 97338., 75093., 75318., 75042., 78229., 75061., 75007.,\n",
       "       76210., 75286., 75001., 75421., 76018., 45216., 77357., 75261.,\n",
       "       76204., 75088., 55227., 75158., 75130., 75024., 75080., 75262.,\n",
       "       75126., 75423., 99999., 75021., 75315., 65248., 85220., 74206.,\n",
       "       76233., 65202., 76228., 72514., 75038., 28034., 75111., 74241.,\n",
       "       75200., 75277., 75115., 76065., 75028., 78524., 75291., 75044.,\n",
       "       45243., 75255., 75121., 74240., 75429., 74216., 75387., 75239.,\n",
       "       77248., 75035., 75323., 75156., 75454., 76051., 79762., 75335.,\n",
       "       75146., 75319., 75110., 75311., 75098., 75242., 85240., 75026.,\n",
       "       78214., 75025., 76226., 76224., 75264., 75402., 76028., 75314.,\n",
       "       85217., 75027., 76212., 78248., 72011., 85204., 76087., 76201.])"
      ]
     },
     "execution_count": 14,
     "metadata": {},
     "output_type": "execute_result"
    }
   ],
   "source": [
    "clean_df.Zone.unique()"
   ]
  },
  {
   "cell_type": "code",
   "execution_count": 15,
   "metadata": {},
   "outputs": [],
   "source": [
    "#Replace typos with correect zip\n",
    "clean_df.loc[clean_df['Zone'] == 76216, 'Zone'] = 75216.0\n",
    "clean_df.loc[clean_df['Zone'] == 65216, 'Zone'] = 75216.0\n",
    "clean_df.loc[clean_df['Zone'] == 76236, 'Zone'] = 75236.0\n",
    "clean_df.loc[clean_df['Zone'] == 76085, 'Zone'] = 75085.0\n",
    "clean_df.loc[clean_df['Zone'] == 76040, 'Zone'] = 75040.0\n",
    "clean_df.loc[clean_df['Zone'] == 78229, 'Zone'] = 75229.0\n",
    "clean_df.loc[clean_df['Zone'] == 76210, 'Zone'] = 75210.0\n",
    "clean_df.loc[clean_df['Zone'] == 45216, 'Zone'] = 75216.0\n",
    "clean_df.loc[clean_df['Zone'] == 77357, 'Zone'] = 75357.0\n",
    "clean_df.loc[clean_df['Zone'] == 76204, 'Zone'] = 75204.0\n",
    "clean_df.loc[clean_df['Zone'] == 55227, 'Zone'] = 75227.0\n",
    "clean_df.loc[clean_df['Zone'] == 65248, 'Zone'] = 75248.0\n",
    "clean_df.loc[clean_df['Zone'] == 85220, 'Zone'] = 75220.0\n",
    "clean_df.loc[clean_df['Zone'] == 74206, 'Zone'] = 75206.0\n",
    "clean_df.loc[clean_df['Zone'] == 76233, 'Zone'] = 75233.0\n",
    "clean_df.loc[clean_df['Zone'] == 65202, 'Zone'] = 75202.0\n",
    "clean_df.loc[clean_df['Zone'] == 76228, 'Zone'] = 75228.0\n",
    "clean_df.loc[clean_df['Zone'] == 74241, 'Zone'] = 75241.0\n",
    "clean_df.loc[clean_df['Zone'] == 78524, 'Zone'] = 75524.0\n",
    "clean_df.loc[clean_df['Zone'] == 45243, 'Zone'] = 75243.0\n",
    "clean_df.loc[clean_df['Zone'] == 74240, 'Zone'] = 75240.0\n",
    "clean_df.loc[clean_df['Zone'] == 74216, 'Zone'] = 75216.0\n",
    "clean_df.loc[clean_df['Zone'] == 76051, 'Zone'] = 75051.0\n",
    "clean_df.loc[clean_df['Zone'] == 85240, 'Zone'] = 75240.0\n",
    "clean_df.loc[clean_df['Zone'] == 78214, 'Zone'] = 75214.0\n",
    "clean_df.loc[clean_df['Zone'] == 76226, 'Zone'] = 75226.0\n",
    "clean_df.loc[clean_df['Zone'] == 76224, 'Zone'] = 75224.0\n",
    "clean_df.loc[clean_df['Zone'] == 76028, 'Zone'] = 75228.0\n",
    "clean_df.loc[clean_df['Zone'] == 85217, 'Zone'] = 75217.0\n",
    "clean_df.loc[clean_df['Zone'] == 76212, 'Zone'] = 75212.0\n",
    "clean_df.loc[clean_df['Zone'] == 78248, 'Zone'] = 75248.0\n",
    "clean_df.loc[clean_df['Zone'] == 72011, 'Zone'] = 75211.0\n",
    "clean_df.loc[clean_df['Zone'] == 85204, 'Zone'] = 75204.0\n",
    "clean_df.loc[clean_df['Zone'] == 76087, 'Zone'] = 75087.0\n",
    "clean_df.loc[clean_df['Zone'] == 76201, 'Zone'] = 75201.0\n",
    "\n",
    "\n",
    "\n",
    "\n",
    "# 97338.0 is Dallas, Oregon, so drop these values\n",
    "clean_df = clean_df[clean_df['Zone'] != 97338.0]\n",
    "\n",
    "#drop placeholder values, clearly wrong zips\n",
    "clean_df = clean_df[clean_df['Zone'] != 28034.0]\n",
    "clean_df = clean_df[clean_df['Zone'] != 99999.0]\n",
    "clean_df = clean_df[clean_df['Zone'] != 79762.0]\n"
   ]
  },
  {
   "cell_type": "code",
   "execution_count": 21,
   "metadata": {},
   "outputs": [
    {
     "data": {
      "text/plain": [
       "76"
      ]
     },
     "execution_count": 21,
     "metadata": {},
     "output_type": "execute_result"
    }
   ],
   "source": [
    "#After plotting initial map, all low value zip codes are outside of Dallas. Remove all values below 100\n",
    "zone_values = clean_df['Zone'].value_counts()\n",
    "zone_remove = zone_values[zone_values < 100].index"
   ]
  },
  {
   "cell_type": "code",
   "execution_count": 23,
   "metadata": {},
   "outputs": [
    {
     "data": {
      "text/plain": [
       "49"
      ]
     },
     "execution_count": 23,
     "metadata": {},
     "output_type": "execute_result"
    }
   ],
   "source": [
    "clean_df = clean_df[~clean_df['Zone'].isin(zone_remove)]\n",
    "clean_df['Zone'].nunique()"
   ]
  },
  {
   "cell_type": "markdown",
   "metadata": {},
   "source": [
    "### Clean Methods so like events are combined"
   ]
  },
  {
   "cell_type": "code",
   "execution_count": 24,
   "metadata": {},
   "outputs": [
    {
     "data": {
      "text/plain": [
       "Proactive                     328659\n",
       "Phone                         100929\n",
       "Web                            50701\n",
       "Mobile Apps                    40682\n",
       "Mass Entry                      4036\n",
       "E-Mail                           276\n",
       "311 IVR                          232\n",
       "City Council Office              148\n",
       "Radio                            144\n",
       "City Hall on the GO              141\n",
       "Police/Fire Dispatch              83\n",
       "Other                             67\n",
       "311 Dispatch Operators            18\n",
       "Interdepartmental Referral        18\n",
       "311 Community Agent                5\n",
       "Voice Mail                         4\n",
       "Townhall Meeting                   3\n",
       "Walk In                            3\n",
       "Open311                            2\n",
       "Customer Service SR                1\n",
       "Fax                                1\n",
       "Mobile Device                      1\n",
       "USPS                               1\n",
       "City Manager's Office              1\n",
       "Mail                               1\n",
       "Name: Method Received Description, dtype: int64"
      ]
     },
     "execution_count": 24,
     "metadata": {},
     "output_type": "execute_result"
    }
   ],
   "source": [
    "clean_df['Method Received Description'].value_counts()"
   ]
  },
  {
   "cell_type": "code",
   "execution_count": 25,
   "metadata": {},
   "outputs": [],
   "source": [
    "clean_df.loc[clean_df['Method Received Description'] == 'E-Mail', 'Method Received Description'] = 'Web'\n",
    "clean_df.loc[clean_df['Method Received Description'] == '311 IVR', 'Method Received Description'] = 'Phone'\n",
    "clean_df.loc[clean_df['Method Received Description'] == 'City Council Office', 'Method Received Description'] = 'City Gov'\n",
    "clean_df.loc[clean_df['Method Received Description'] == \"City Manager's Office\", 'Method Received Description'] = 'City Gov'\n",
    "clean_df.loc[clean_df['Method Received Description'] == 'City Hall on the GO', 'Method Received Description'] = '311 Outreach'\n",
    "clean_df.loc[clean_df['Method Received Description'] == 'Townhall Meeting', 'Method Received Description'] = '311 Outreach'\n",
    "clean_df.loc[clean_df['Method Received Description'] == '311 Community Agent', 'Method Received Description'] = '311 Outreach'\n",
    "clean_df.loc[clean_df['Method Received Description'] == 'Voice Mail', 'Method Received Description'] = 'Phone'\n",
    "clean_df.loc[clean_df['Method Received Description'] == 'Mobile Device', 'Method Received Description'] = 'Mobile Apps'\n",
    "clean_df.loc[clean_df['Method Received Description'] == 'Police/Fire Dispatch', 'Method Received Description'] = 'Interdepartmental Referral'\n",
    "clean_df.loc[clean_df['Method Received Description'] == 'USPS', 'Method Received Description'] = 'Interdepartmental Referral'"
   ]
  },
  {
   "cell_type": "code",
   "execution_count": 26,
   "metadata": {},
   "outputs": [
    {
     "data": {
      "text/plain": [
       "Proactive                     328659\n",
       "Phone                         101165\n",
       "Web                            50977\n",
       "Mobile Apps                    40683\n",
       "Mass Entry                      4036\n",
       "311 Outreach                     149\n",
       "City Gov                         149\n",
       "Radio                            144\n",
       "Interdepartmental Referral       102\n",
       "Other                             67\n",
       "311 Dispatch Operators            18\n",
       "Walk In                            3\n",
       "Open311                            2\n",
       "Fax                                1\n",
       "Mail                               1\n",
       "Customer Service SR                1\n",
       "Name: Method Received Description, dtype: int64"
      ]
     },
     "execution_count": 26,
     "metadata": {},
     "output_type": "execute_result"
    }
   ],
   "source": [
    "clean_df['Method Received Description'].value_counts()"
   ]
  },
  {
   "cell_type": "markdown",
   "metadata": {},
   "source": [
    "### Remove remaining types with value count less than 'Other'"
   ]
  },
  {
   "cell_type": "code",
   "execution_count": 27,
   "metadata": {},
   "outputs": [],
   "source": [
    "#Save 'Other' count as variable\n",
    "other_method_filter = clean_df.loc[clean_df['Method Received Description'] == 'Other',]['Method Received Description'].count()"
   ]
  },
  {
   "cell_type": "code",
   "execution_count": 28,
   "metadata": {},
   "outputs": [],
   "source": [
    "#Save value counts to apply filter\n",
    "method_values = clean_df['Method Received Description'].value_counts()\n"
   ]
  },
  {
   "cell_type": "code",
   "execution_count": 29,
   "metadata": {},
   "outputs": [
    {
     "data": {
      "text/plain": [
       "Index(['311 Dispatch Operators', 'Walk In', 'Open311', 'Fax', 'Mail',\n",
       "       'Customer Service SR'],\n",
       "      dtype='object')"
      ]
     },
     "execution_count": 29,
     "metadata": {},
     "output_type": "execute_result"
    }
   ],
   "source": [
    "#Select values less than 'Other'\n",
    "method_remove = method_values[method_values < other_method_filter].index\n",
    "method_remove"
   ]
  },
  {
   "cell_type": "code",
   "execution_count": 30,
   "metadata": {},
   "outputs": [
    {
     "data": {
      "text/plain": [
       "Proactive                     328659\n",
       "Phone                         101165\n",
       "Web                            50977\n",
       "Mobile Apps                    40683\n",
       "Mass Entry                      4036\n",
       "311 Outreach                     149\n",
       "City Gov                         149\n",
       "Radio                            144\n",
       "Interdepartmental Referral       102\n",
       "Other                             67\n",
       "Name: Method Received Description, dtype: int64"
      ]
     },
     "execution_count": 30,
     "metadata": {},
     "output_type": "execute_result"
    }
   ],
   "source": [
    "#Apply this filter to clean df\n",
    "clean_df = clean_df[~clean_df['Method Received Description'].isin(method_remove)]\n",
    "clean_df['Method Received Description'].value_counts()"
   ]
  },
  {
   "cell_type": "code",
   "execution_count": 32,
   "metadata": {},
   "outputs": [
    {
     "data": {
      "text/plain": [
       "High Weeds - CCS                                            114240\n",
       "Litter -  CCS                                                93727\n",
       "Obstruction Alley/Sidewalk/Street - CCS                      62030\n",
       "Garage Sale Tracking - CCS                                   58422\n",
       "Bulky Trash Violations - CCS                                 52768\n",
       "Illegal Dumping - CCS                                        27158\n",
       "Graffiti Abatement Request - CCS                             22731\n",
       "Junk Motor Vehicle - CCS                                     22468\n",
       "Illegal Outside Storage - CCS                                17004\n",
       "Water Conservation Violation - CCS                           11260\n",
       "Graffiti Private Property - Residential/Commercial - CCS     11104\n",
       "Illegal Garbage/Placement - CCS                               9872\n",
       "Garage Sale - CCS                                             9225\n",
       "Noise Pollution - CCS                                         5426\n",
       "Obstruction Corner Clip - CCS                                 1785\n",
       "Dumpster Violation - CCS                                      1734\n",
       "Oversized Vehicle - CCS                                       1704\n",
       "Sidewalk Violations Hazardous - CCS                           1589\n",
       "Rodents/Vector Control - CCS                                   555\n",
       "Light Glare - CCS                                              432\n",
       "Hand Bills/Fliers Complaint - CCS                              387\n",
       "Graffiti Consent Form - CCS                                    380\n",
       "Smoking/Restaurant Complaint - CCS                              98\n",
       "Shopping Cart Decal Violation - CCS                             32\n",
       "Name: Nuisance, dtype: int64"
      ]
     },
     "execution_count": 32,
     "metadata": {},
     "output_type": "execute_result"
    }
   ],
   "source": [
    "clean_df['Nuisance'].value_counts()"
   ]
  },
  {
   "cell_type": "code",
   "execution_count": 33,
   "metadata": {},
   "outputs": [
    {
     "data": {
      "text/html": [
       "<div>\n",
       "<style scoped>\n",
       "    .dataframe tbody tr th:only-of-type {\n",
       "        vertical-align: middle;\n",
       "    }\n",
       "\n",
       "    .dataframe tbody tr th {\n",
       "        vertical-align: top;\n",
       "    }\n",
       "\n",
       "    .dataframe thead th {\n",
       "        text-align: right;\n",
       "    }\n",
       "</style>\n",
       "<table border=\"1\" class=\"dataframe\">\n",
       "  <thead>\n",
       "    <tr style=\"text-align: right;\">\n",
       "      <th></th>\n",
       "      <th>Service Request ID</th>\n",
       "      <th>Str Nam</th>\n",
       "      <th>Zone</th>\n",
       "      <th>Nuisance</th>\n",
       "      <th>Method Received Description</th>\n",
       "      <th>Created</th>\n",
       "      <th>Completed Date</th>\n",
       "    </tr>\n",
       "  </thead>\n",
       "  <tbody>\n",
       "    <tr>\n",
       "      <td>591406</td>\n",
       "      <td>1278197292</td>\n",
       "      <td>BUTLER</td>\n",
       "      <td>75235.0</td>\n",
       "      <td>High Weeds - CCS</td>\n",
       "      <td>Proactive</td>\n",
       "      <td>2017-06-20 13:56:00</td>\n",
       "      <td>2017-06-19 14:13:00</td>\n",
       "    </tr>\n",
       "    <tr>\n",
       "      <td>212394</td>\n",
       "      <td>1111805892</td>\n",
       "      <td>WAVERLY</td>\n",
       "      <td>75208.0</td>\n",
       "      <td>Illegal Outside Storage - CCS</td>\n",
       "      <td>Proactive</td>\n",
       "      <td>2014-01-15 10:07:00</td>\n",
       "      <td>2014-01-16 14:02:00</td>\n",
       "    </tr>\n",
       "    <tr>\n",
       "      <td>61858</td>\n",
       "      <td>1104569307</td>\n",
       "      <td>PRUITT</td>\n",
       "      <td>75227.0</td>\n",
       "      <td>High Weeds - CCS</td>\n",
       "      <td>Proactive</td>\n",
       "      <td>2013-10-10 09:24:00</td>\n",
       "      <td>2013-10-09 09:29:00</td>\n",
       "    </tr>\n",
       "    <tr>\n",
       "      <td>395121</td>\n",
       "      <td>1221315821</td>\n",
       "      <td>STONEMAN</td>\n",
       "      <td>75215.0</td>\n",
       "      <td>High Weeds - CCS</td>\n",
       "      <td>Proactive</td>\n",
       "      <td>2016-07-28 15:20:00</td>\n",
       "      <td>2016-07-28 15:22:00</td>\n",
       "    </tr>\n",
       "    <tr>\n",
       "      <td>57519</td>\n",
       "      <td>1163330488</td>\n",
       "      <td>BOWMAN</td>\n",
       "      <td>75220.0</td>\n",
       "      <td>High Weeds - CCS</td>\n",
       "      <td>Proactive</td>\n",
       "      <td>2015-07-11 00:00:00</td>\n",
       "      <td>NaT</td>\n",
       "    </tr>\n",
       "    <tr>\n",
       "      <td>692530</td>\n",
       "      <td>1293898973</td>\n",
       "      <td>INWOOD</td>\n",
       "      <td>75209.0</td>\n",
       "      <td>High Weeds - CCS</td>\n",
       "      <td>Phone</td>\n",
       "      <td>2017-09-07 15:13:00</td>\n",
       "      <td>NaT</td>\n",
       "    </tr>\n",
       "    <tr>\n",
       "      <td>496058</td>\n",
       "      <td>1312549150</td>\n",
       "      <td>COLE</td>\n",
       "      <td>75204.0</td>\n",
       "      <td>Litter -  CCS</td>\n",
       "      <td>Mobile Apps</td>\n",
       "      <td>2018-02-12 15:30:00</td>\n",
       "      <td>2018-02-14 14:03:00</td>\n",
       "    </tr>\n",
       "    <tr>\n",
       "      <td>535030</td>\n",
       "      <td>1247991183</td>\n",
       "      <td>HAVENDON</td>\n",
       "      <td>75203.0</td>\n",
       "      <td>Illegal Dumping - CCS</td>\n",
       "      <td>Mobile Apps</td>\n",
       "      <td>2017-01-29 13:45:00</td>\n",
       "      <td>2017-02-09 15:19:00</td>\n",
       "    </tr>\n",
       "    <tr>\n",
       "      <td>124658</td>\n",
       "      <td>1287422270</td>\n",
       "      <td>WHISPERING</td>\n",
       "      <td>75241.0</td>\n",
       "      <td>Bulky Trash Violations - CCS</td>\n",
       "      <td>Web</td>\n",
       "      <td>2017-07-31 01:23:00</td>\n",
       "      <td>NaT</td>\n",
       "    </tr>\n",
       "    <tr>\n",
       "      <td>658563</td>\n",
       "      <td>1105206428</td>\n",
       "      <td>HEMPHILL</td>\n",
       "      <td>75216.0</td>\n",
       "      <td>High Weeds - CCS</td>\n",
       "      <td>Phone</td>\n",
       "      <td>2013-10-17 11:47:00</td>\n",
       "      <td>2013-10-23 11:56:00</td>\n",
       "    </tr>\n",
       "  </tbody>\n",
       "</table>\n",
       "</div>"
      ],
      "text/plain": [
       "        Service Request ID     Str Nam     Zone  \\\n",
       "591406          1278197292      BUTLER  75235.0   \n",
       "212394          1111805892     WAVERLY  75208.0   \n",
       "61858           1104569307      PRUITT  75227.0   \n",
       "395121          1221315821    STONEMAN  75215.0   \n",
       "57519           1163330488      BOWMAN  75220.0   \n",
       "692530          1293898973      INWOOD  75209.0   \n",
       "496058          1312549150        COLE  75204.0   \n",
       "535030          1247991183    HAVENDON  75203.0   \n",
       "124658          1287422270  WHISPERING  75241.0   \n",
       "658563          1105206428    HEMPHILL  75216.0   \n",
       "\n",
       "                             Nuisance Method Received Description  \\\n",
       "591406               High Weeds - CCS                   Proactive   \n",
       "212394  Illegal Outside Storage - CCS                   Proactive   \n",
       "61858                High Weeds - CCS                   Proactive   \n",
       "395121               High Weeds - CCS                   Proactive   \n",
       "57519                High Weeds - CCS                   Proactive   \n",
       "692530               High Weeds - CCS                       Phone   \n",
       "496058                  Litter -  CCS                 Mobile Apps   \n",
       "535030          Illegal Dumping - CCS                 Mobile Apps   \n",
       "124658   Bulky Trash Violations - CCS                         Web   \n",
       "658563               High Weeds - CCS                       Phone   \n",
       "\n",
       "                   Created      Completed Date  \n",
       "591406 2017-06-20 13:56:00 2017-06-19 14:13:00  \n",
       "212394 2014-01-15 10:07:00 2014-01-16 14:02:00  \n",
       "61858  2013-10-10 09:24:00 2013-10-09 09:29:00  \n",
       "395121 2016-07-28 15:20:00 2016-07-28 15:22:00  \n",
       "57519  2015-07-11 00:00:00                 NaT  \n",
       "692530 2017-09-07 15:13:00                 NaT  \n",
       "496058 2018-02-12 15:30:00 2018-02-14 14:03:00  \n",
       "535030 2017-01-29 13:45:00 2017-02-09 15:19:00  \n",
       "124658 2017-07-31 01:23:00                 NaT  \n",
       "658563 2013-10-17 11:47:00 2013-10-23 11:56:00  "
      ]
     },
     "execution_count": 33,
     "metadata": {},
     "output_type": "execute_result"
    }
   ],
   "source": [
    "clean_df.sample(10)"
   ]
  },
  {
   "cell_type": "markdown",
   "metadata": {},
   "source": [
    "## Export to CSV"
   ]
  },
  {
   "cell_type": "code",
   "execution_count": 34,
   "metadata": {},
   "outputs": [],
   "source": [
    "clean_df.to_csv(r'..\\Resources\\clean_violations.csv', index = False)"
   ]
  }
 ],
 "metadata": {
  "kernelspec": {
   "display_name": "Python 3",
   "language": "python",
   "name": "python3"
  },
  "language_info": {
   "codemirror_mode": {
    "name": "ipython",
    "version": 3
   },
   "file_extension": ".py",
   "mimetype": "text/x-python",
   "name": "python",
   "nbconvert_exporter": "python",
   "pygments_lexer": "ipython3",
   "version": "3.7.4"
  }
 },
 "nbformat": 4,
 "nbformat_minor": 2
}
